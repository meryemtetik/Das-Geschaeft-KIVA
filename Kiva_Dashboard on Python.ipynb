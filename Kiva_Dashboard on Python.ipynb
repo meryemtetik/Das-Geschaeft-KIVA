{
 "cells": [
  {
   "cell_type": "markdown",
   "id": "ab8863c3",
   "metadata": {},
   "source": [
    "CRISP DM: Data Understanding\n",
    "- funded_amount ... mit Ablauf der \"Crowding\"zeit erhaltener Betrag/ ausgezahlter Betrag in USD\n",
    "- loan_amount ... Zielbetrag (Betrag dem man für das Projekt erreichen wollte) in USD\n",
    "- activity ... Unterkategory zu dem das Ziel des Crowdprojektes thematisch gehört\n",
    "- sector ... Oberkategory in den das Crowdprojektes Thema fällt\n",
    "- use ... Kurzbeschreibung wofür das Geld verwendet werden soll\n",
    "- country_code ... Ländercode nach ISO Norm\n",
    "- country ... Ländername nach ISO Norm\n",
    "- region ... Region\n",
    "- currency ... Währung in den der funded_amount dann ausgezahlt wurde\n",
    "- term in months ... Dauer über die der Kredit ausgezahlt werden soll\n",
    "- lender_count ...Darlehensgeber (also wieviele Personen Geld für das Projekt gegeben haben)\n",
    "- borrower_genders ... Geschlecht und Anzahl der Darlehensnehmer, also diejenigen die das Crowdprojekt initiiert haben       \n",
    "- repayment interval ... vertraglich vereinbarte Rückzahlungsmodalitäten/-rhythmus"
   ]
  },
  {
   "cell_type": "code",
   "execution_count": 1,
   "id": "9314a8e1",
   "metadata": {
    "ExecuteTime": {
     "end_time": "2023-08-19T10:05:59.384742Z",
     "start_time": "2023-08-19T10:05:55.593282Z"
    }
   },
   "outputs": [
    {
     "data": {
      "text/html": [
       "        <script type=\"text/javascript\">\n",
       "        window.PlotlyConfig = {MathJaxConfig: 'local'};\n",
       "        if (window.MathJax && window.MathJax.Hub && window.MathJax.Hub.Config) {window.MathJax.Hub.Config({SVG: {font: \"STIX-Web\"}});}\n",
       "        if (typeof require !== 'undefined') {\n",
       "        require.undef(\"plotly\");\n",
       "        requirejs.config({\n",
       "            paths: {\n",
       "                'plotly': ['https://cdn.plot.ly/plotly-2.24.1.min']\n",
       "            }\n",
       "        });\n",
       "        require(['plotly'], function(Plotly) {\n",
       "            window._Plotly = Plotly;\n",
       "        });\n",
       "        }\n",
       "        </script>\n",
       "        "
      ]
     },
     "metadata": {},
     "output_type": "display_data"
    }
   ],
   "source": [
    "from plotly.offline import init_notebook_mode, iplot\n",
    "init_notebook_mode(connected=True)\n",
    "import pandas as pd\n",
    "import plotly.express as px"
   ]
  },
  {
   "cell_type": "code",
   "execution_count": 2,
   "id": "9100c7ea",
   "metadata": {
    "ExecuteTime": {
     "end_time": "2023-08-19T10:06:30.130803Z",
     "start_time": "2023-08-19T10:06:29.791214Z"
    }
   },
   "outputs": [
    {
     "data": {
      "text/html": [
       "<div>\n",
       "<style scoped>\n",
       "    .dataframe tbody tr th:only-of-type {\n",
       "        vertical-align: middle;\n",
       "    }\n",
       "\n",
       "    .dataframe tbody tr th {\n",
       "        vertical-align: top;\n",
       "    }\n",
       "\n",
       "    .dataframe thead th {\n",
       "        text-align: right;\n",
       "    }\n",
       "</style>\n",
       "<table border=\"1\" class=\"dataframe\">\n",
       "  <thead>\n",
       "    <tr style=\"text-align: right;\">\n",
       "      <th></th>\n",
       "      <th>funded_amount</th>\n",
       "      <th>loan_amount</th>\n",
       "      <th>activity</th>\n",
       "      <th>sector</th>\n",
       "      <th>country_code</th>\n",
       "      <th>country</th>\n",
       "      <th>region</th>\n",
       "      <th>currency</th>\n",
       "      <th>term_in_months</th>\n",
       "      <th>lender_count</th>\n",
       "      <th>repayment_interval</th>\n",
       "      <th>borrowers_female</th>\n",
       "      <th>borrowers_male</th>\n",
       "    </tr>\n",
       "  </thead>\n",
       "  <tbody>\n",
       "    <tr>\n",
       "      <th>0</th>\n",
       "      <td>300.0</td>\n",
       "      <td>300.0</td>\n",
       "      <td>Fruits &amp; Vegetables</td>\n",
       "      <td>Food</td>\n",
       "      <td>PK</td>\n",
       "      <td>Pakistan</td>\n",
       "      <td>Lahore</td>\n",
       "      <td>PKR</td>\n",
       "      <td>12.0</td>\n",
       "      <td>12</td>\n",
       "      <td>irregular</td>\n",
       "      <td>1</td>\n",
       "      <td>0</td>\n",
       "    </tr>\n",
       "    <tr>\n",
       "      <th>1</th>\n",
       "      <td>575.0</td>\n",
       "      <td>575.0</td>\n",
       "      <td>Rickshaw</td>\n",
       "      <td>Transportation</td>\n",
       "      <td>PK</td>\n",
       "      <td>Pakistan</td>\n",
       "      <td>Lahore</td>\n",
       "      <td>PKR</td>\n",
       "      <td>11.0</td>\n",
       "      <td>14</td>\n",
       "      <td>irregular</td>\n",
       "      <td>2</td>\n",
       "      <td>0</td>\n",
       "    </tr>\n",
       "    <tr>\n",
       "      <th>2</th>\n",
       "      <td>150.0</td>\n",
       "      <td>150.0</td>\n",
       "      <td>Transportation</td>\n",
       "      <td>Transportation</td>\n",
       "      <td>IN</td>\n",
       "      <td>India</td>\n",
       "      <td>Maynaguri</td>\n",
       "      <td>INR</td>\n",
       "      <td>43.0</td>\n",
       "      <td>6</td>\n",
       "      <td>bullet</td>\n",
       "      <td>1</td>\n",
       "      <td>0</td>\n",
       "    </tr>\n",
       "    <tr>\n",
       "      <th>3</th>\n",
       "      <td>200.0</td>\n",
       "      <td>200.0</td>\n",
       "      <td>Embroidery</td>\n",
       "      <td>Arts</td>\n",
       "      <td>PK</td>\n",
       "      <td>Pakistan</td>\n",
       "      <td>Lahore</td>\n",
       "      <td>PKR</td>\n",
       "      <td>11.0</td>\n",
       "      <td>8</td>\n",
       "      <td>irregular</td>\n",
       "      <td>1</td>\n",
       "      <td>0</td>\n",
       "    </tr>\n",
       "    <tr>\n",
       "      <th>4</th>\n",
       "      <td>400.0</td>\n",
       "      <td>400.0</td>\n",
       "      <td>Milk Sales</td>\n",
       "      <td>Food</td>\n",
       "      <td>PK</td>\n",
       "      <td>Pakistan</td>\n",
       "      <td>Abdul Hakeem</td>\n",
       "      <td>PKR</td>\n",
       "      <td>14.0</td>\n",
       "      <td>16</td>\n",
       "      <td>monthly</td>\n",
       "      <td>1</td>\n",
       "      <td>0</td>\n",
       "    </tr>\n",
       "  </tbody>\n",
       "</table>\n",
       "</div>"
      ],
      "text/plain": [
       "   funded_amount  loan_amount             activity          sector  \\\n",
       "0          300.0        300.0  Fruits & Vegetables            Food   \n",
       "1          575.0        575.0             Rickshaw  Transportation   \n",
       "2          150.0        150.0       Transportation  Transportation   \n",
       "3          200.0        200.0           Embroidery            Arts   \n",
       "4          400.0        400.0           Milk Sales            Food   \n",
       "\n",
       "  country_code   country        region currency  term_in_months  lender_count  \\\n",
       "0           PK  Pakistan        Lahore      PKR            12.0            12   \n",
       "1           PK  Pakistan        Lahore      PKR            11.0            14   \n",
       "2           IN     India     Maynaguri      INR            43.0             6   \n",
       "3           PK  Pakistan        Lahore      PKR            11.0             8   \n",
       "4           PK  Pakistan  Abdul Hakeem      PKR            14.0            16   \n",
       "\n",
       "  repayment_interval  borrowers_female  borrowers_male  \n",
       "0          irregular                 1               0  \n",
       "1          irregular                 2               0  \n",
       "2             bullet                 1               0  \n",
       "3          irregular                 1               0  \n",
       "4            monthly                 1               0  "
      ]
     },
     "execution_count": 2,
     "metadata": {},
     "output_type": "execute_result"
    }
   ],
   "source": [
    "df = pd.read_pickle('data_prepared.pkl')\n",
    "df.head()"
   ]
  },
  {
   "cell_type": "code",
   "execution_count": 3,
   "id": "3630d01f",
   "metadata": {
    "ExecuteTime": {
     "end_time": "2023-08-19T10:06:33.808135Z",
     "start_time": "2023-08-19T10:06:33.731131Z"
    }
   },
   "outputs": [
    {
     "data": {
      "text/html": [
       "<div>\n",
       "<style scoped>\n",
       "    .dataframe tbody tr th:only-of-type {\n",
       "        vertical-align: middle;\n",
       "    }\n",
       "\n",
       "    .dataframe tbody tr th {\n",
       "        vertical-align: top;\n",
       "    }\n",
       "\n",
       "    .dataframe thead th {\n",
       "        text-align: right;\n",
       "    }\n",
       "</style>\n",
       "<table border=\"1\" class=\"dataframe\">\n",
       "  <thead>\n",
       "    <tr style=\"text-align: right;\">\n",
       "      <th></th>\n",
       "      <th>repayment_interval</th>\n",
       "      <th>avg_funded_amount</th>\n",
       "    </tr>\n",
       "  </thead>\n",
       "  <tbody>\n",
       "    <tr>\n",
       "      <th>0</th>\n",
       "      <td>bullet</td>\n",
       "      <td>761.542610</td>\n",
       "    </tr>\n",
       "    <tr>\n",
       "      <th>1</th>\n",
       "      <td>irregular</td>\n",
       "      <td>685.431772</td>\n",
       "    </tr>\n",
       "    <tr>\n",
       "      <th>2</th>\n",
       "      <td>monthly</td>\n",
       "      <td>910.725061</td>\n",
       "    </tr>\n",
       "    <tr>\n",
       "      <th>3</th>\n",
       "      <td>weekly</td>\n",
       "      <td>234.071906</td>\n",
       "    </tr>\n",
       "  </tbody>\n",
       "</table>\n",
       "</div>"
      ],
      "text/plain": [
       "  repayment_interval  avg_funded_amount\n",
       "0             bullet         761.542610\n",
       "1          irregular         685.431772\n",
       "2            monthly         910.725061\n",
       "3             weekly         234.071906"
      ]
     },
     "execution_count": 3,
     "metadata": {},
     "output_type": "execute_result"
    }
   ],
   "source": [
    "df_avg_funded = df.groupby(by=['repayment_interval'], as_index=False).agg(avg_funded_amount=('funded_amount', 'mean'))\n",
    "df_avg_funded\n",
    "\n",
    "#Gruppieren nach Rückzahlunsintervall und aggregieren geförderter Betrag, um den Mittelwerte zu ermitteln."
   ]
  },
  {
   "cell_type": "code",
   "execution_count": 4,
   "id": "0002be85",
   "metadata": {
    "ExecuteTime": {
     "end_time": "2023-08-19T10:06:57.688708Z",
     "start_time": "2023-08-19T10:06:57.590124Z"
    }
   },
   "outputs": [
    {
     "data": {
      "text/html": [
       "<div>\n",
       "<style scoped>\n",
       "    .dataframe tbody tr th:only-of-type {\n",
       "        vertical-align: middle;\n",
       "    }\n",
       "\n",
       "    .dataframe tbody tr th {\n",
       "        vertical-align: top;\n",
       "    }\n",
       "\n",
       "    .dataframe thead th {\n",
       "        text-align: right;\n",
       "    }\n",
       "</style>\n",
       "<table border=\"1\" class=\"dataframe\">\n",
       "  <thead>\n",
       "    <tr style=\"text-align: right;\">\n",
       "      <th></th>\n",
       "      <th>sector</th>\n",
       "      <th>anzahl_activity</th>\n",
       "    </tr>\n",
       "  </thead>\n",
       "  <tbody>\n",
       "    <tr>\n",
       "      <th>0</th>\n",
       "      <td>Agriculture</td>\n",
       "      <td>174624</td>\n",
       "    </tr>\n",
       "    <tr>\n",
       "      <th>1</th>\n",
       "      <td>Arts</td>\n",
       "      <td>11938</td>\n",
       "    </tr>\n",
       "    <tr>\n",
       "      <th>2</th>\n",
       "      <td>Clothing</td>\n",
       "      <td>32554</td>\n",
       "    </tr>\n",
       "    <tr>\n",
       "      <th>3</th>\n",
       "      <td>Construction</td>\n",
       "      <td>6263</td>\n",
       "    </tr>\n",
       "    <tr>\n",
       "      <th>4</th>\n",
       "      <td>Education</td>\n",
       "      <td>30128</td>\n",
       "    </tr>\n",
       "    <tr>\n",
       "      <th>5</th>\n",
       "      <td>Entertainment</td>\n",
       "      <td>829</td>\n",
       "    </tr>\n",
       "    <tr>\n",
       "      <th>6</th>\n",
       "      <td>Food</td>\n",
       "      <td>135359</td>\n",
       "    </tr>\n",
       "    <tr>\n",
       "      <th>7</th>\n",
       "      <td>Health</td>\n",
       "      <td>9190</td>\n",
       "    </tr>\n",
       "    <tr>\n",
       "      <th>8</th>\n",
       "      <td>Housing</td>\n",
       "      <td>30155</td>\n",
       "    </tr>\n",
       "    <tr>\n",
       "      <th>9</th>\n",
       "      <td>Manufacturing</td>\n",
       "      <td>6204</td>\n",
       "    </tr>\n",
       "    <tr>\n",
       "      <th>10</th>\n",
       "      <td>Personal Use</td>\n",
       "      <td>25533</td>\n",
       "    </tr>\n",
       "    <tr>\n",
       "      <th>11</th>\n",
       "      <td>Retail</td>\n",
       "      <td>123186</td>\n",
       "    </tr>\n",
       "    <tr>\n",
       "      <th>12</th>\n",
       "      <td>Services</td>\n",
       "      <td>44844</td>\n",
       "    </tr>\n",
       "    <tr>\n",
       "      <th>13</th>\n",
       "      <td>Transportation</td>\n",
       "      <td>15392</td>\n",
       "    </tr>\n",
       "    <tr>\n",
       "      <th>14</th>\n",
       "      <td>Wholesale</td>\n",
       "      <td>634</td>\n",
       "    </tr>\n",
       "  </tbody>\n",
       "</table>\n",
       "</div>"
      ],
      "text/plain": [
       "            sector  anzahl_activity\n",
       "0      Agriculture           174624\n",
       "1             Arts            11938\n",
       "2         Clothing            32554\n",
       "3     Construction             6263\n",
       "4        Education            30128\n",
       "5    Entertainment              829\n",
       "6             Food           135359\n",
       "7           Health             9190\n",
       "8          Housing            30155\n",
       "9    Manufacturing             6204\n",
       "10    Personal Use            25533\n",
       "11          Retail           123186\n",
       "12        Services            44844\n",
       "13  Transportation            15392\n",
       "14       Wholesale              634"
      ]
     },
     "execution_count": 4,
     "metadata": {},
     "output_type": "execute_result"
    }
   ],
   "source": [
    "df_sector = df.groupby(by='sector', as_index=False).agg(anzahl_activity=('activity','count'))\n",
    "df_sector\n",
    "# In dieser tabelle sehen wir die Anzahl der Aktivitäten für jede Sektor."
   ]
  },
  {
   "cell_type": "code",
   "execution_count": 5,
   "id": "d791f282",
   "metadata": {
    "ExecuteTime": {
     "end_time": "2023-08-19T10:07:14.456573Z",
     "start_time": "2023-08-19T10:07:14.375998Z"
    }
   },
   "outputs": [
    {
     "data": {
      "text/html": [
       "<div>\n",
       "<style scoped>\n",
       "    .dataframe tbody tr th:only-of-type {\n",
       "        vertical-align: middle;\n",
       "    }\n",
       "\n",
       "    .dataframe tbody tr th {\n",
       "        vertical-align: top;\n",
       "    }\n",
       "\n",
       "    .dataframe thead th {\n",
       "        text-align: right;\n",
       "    }\n",
       "</style>\n",
       "<table border=\"1\" class=\"dataframe\">\n",
       "  <thead>\n",
       "    <tr style=\"text-align: right;\">\n",
       "      <th></th>\n",
       "      <th>country</th>\n",
       "      <th>avg_funded_amount</th>\n",
       "      <th>avg_loan_amount</th>\n",
       "    </tr>\n",
       "  </thead>\n",
       "  <tbody>\n",
       "    <tr>\n",
       "      <th>0</th>\n",
       "      <td>Afghanistan</td>\n",
       "      <td>7000.000000</td>\n",
       "      <td>7000.000000</td>\n",
       "    </tr>\n",
       "    <tr>\n",
       "      <th>1</th>\n",
       "      <td>Albania</td>\n",
       "      <td>1287.487073</td>\n",
       "      <td>1378.748707</td>\n",
       "    </tr>\n",
       "    <tr>\n",
       "      <th>2</th>\n",
       "      <td>Armenia</td>\n",
       "      <td>1296.135126</td>\n",
       "      <td>1496.474099</td>\n",
       "    </tr>\n",
       "    <tr>\n",
       "      <th>3</th>\n",
       "      <td>Azerbaijan</td>\n",
       "      <td>1388.890319</td>\n",
       "      <td>1486.277034</td>\n",
       "    </tr>\n",
       "    <tr>\n",
       "      <th>4</th>\n",
       "      <td>Belize</td>\n",
       "      <td>915.322581</td>\n",
       "      <td>915.322581</td>\n",
       "    </tr>\n",
       "    <tr>\n",
       "      <th>...</th>\n",
       "      <td>...</td>\n",
       "      <td>...</td>\n",
       "      <td>...</td>\n",
       "    </tr>\n",
       "    <tr>\n",
       "      <th>82</th>\n",
       "      <td>Vietnam</td>\n",
       "      <td>1356.091357</td>\n",
       "      <td>1484.618209</td>\n",
       "    </tr>\n",
       "    <tr>\n",
       "      <th>83</th>\n",
       "      <td>Virgin Islands</td>\n",
       "      <td>0.000000</td>\n",
       "      <td>5000.000000</td>\n",
       "    </tr>\n",
       "    <tr>\n",
       "      <th>84</th>\n",
       "      <td>Yemen</td>\n",
       "      <td>771.325119</td>\n",
       "      <td>812.775616</td>\n",
       "    </tr>\n",
       "    <tr>\n",
       "      <th>85</th>\n",
       "      <td>Zambia</td>\n",
       "      <td>1474.000000</td>\n",
       "      <td>1554.935484</td>\n",
       "    </tr>\n",
       "    <tr>\n",
       "      <th>86</th>\n",
       "      <td>Zimbabwe</td>\n",
       "      <td>840.982884</td>\n",
       "      <td>859.778505</td>\n",
       "    </tr>\n",
       "  </tbody>\n",
       "</table>\n",
       "<p>87 rows × 3 columns</p>\n",
       "</div>"
      ],
      "text/plain": [
       "           country  avg_funded_amount  avg_loan_amount\n",
       "0      Afghanistan        7000.000000      7000.000000\n",
       "1          Albania        1287.487073      1378.748707\n",
       "2          Armenia        1296.135126      1496.474099\n",
       "3       Azerbaijan        1388.890319      1486.277034\n",
       "4           Belize         915.322581       915.322581\n",
       "..             ...                ...              ...\n",
       "82         Vietnam        1356.091357      1484.618209\n",
       "83  Virgin Islands           0.000000      5000.000000\n",
       "84           Yemen         771.325119       812.775616\n",
       "85          Zambia        1474.000000      1554.935484\n",
       "86        Zimbabwe         840.982884       859.778505\n",
       "\n",
       "[87 rows x 3 columns]"
      ]
     },
     "execution_count": 5,
     "metadata": {},
     "output_type": "execute_result"
    }
   ],
   "source": [
    "df_funded_loan = df.groupby(by='country',as_index=False).agg(avg_funded_amount = ('funded_amount','mean'), avg_loan_amount = ('loan_amount','mean'))\n",
    "df_funded_loan"
   ]
  },
  {
   "cell_type": "code",
   "execution_count": 6,
   "id": "c3a1ba8d",
   "metadata": {
    "ExecuteTime": {
     "end_time": "2023-08-19T10:07:34.282810Z",
     "start_time": "2023-08-19T10:07:34.203101Z"
    }
   },
   "outputs": [
    {
     "data": {
      "text/html": [
       "<div>\n",
       "<style scoped>\n",
       "    .dataframe tbody tr th:only-of-type {\n",
       "        vertical-align: middle;\n",
       "    }\n",
       "\n",
       "    .dataframe tbody tr th {\n",
       "        vertical-align: top;\n",
       "    }\n",
       "\n",
       "    .dataframe thead th {\n",
       "        text-align: right;\n",
       "    }\n",
       "</style>\n",
       "<table border=\"1\" class=\"dataframe\">\n",
       "  <thead>\n",
       "    <tr style=\"text-align: right;\">\n",
       "      <th></th>\n",
       "      <th>anzahl_female</th>\n",
       "      <th>anzahl_male</th>\n",
       "    </tr>\n",
       "    <tr>\n",
       "      <th>sector</th>\n",
       "      <th></th>\n",
       "      <th></th>\n",
       "    </tr>\n",
       "  </thead>\n",
       "  <tbody>\n",
       "    <tr>\n",
       "      <th>Agriculture</th>\n",
       "      <td>259228</td>\n",
       "      <td>110613</td>\n",
       "    </tr>\n",
       "    <tr>\n",
       "      <th>Arts</th>\n",
       "      <td>21497</td>\n",
       "      <td>2117</td>\n",
       "    </tr>\n",
       "    <tr>\n",
       "      <th>Clothing</th>\n",
       "      <td>80353</td>\n",
       "      <td>8176</td>\n",
       "    </tr>\n",
       "    <tr>\n",
       "      <th>Construction</th>\n",
       "      <td>6158</td>\n",
       "      <td>4367</td>\n",
       "    </tr>\n",
       "    <tr>\n",
       "      <th>Education</th>\n",
       "      <td>22056</td>\n",
       "      <td>12151</td>\n",
       "    </tr>\n",
       "    <tr>\n",
       "      <th>Entertainment</th>\n",
       "      <td>550</td>\n",
       "      <td>465</td>\n",
       "    </tr>\n",
       "    <tr>\n",
       "      <th>Food</th>\n",
       "      <td>285541</td>\n",
       "      <td>39542</td>\n",
       "    </tr>\n",
       "    <tr>\n",
       "      <th>Health</th>\n",
       "      <td>10979</td>\n",
       "      <td>4053</td>\n",
       "    </tr>\n",
       "    <tr>\n",
       "      <th>Housing</th>\n",
       "      <td>27536</td>\n",
       "      <td>9346</td>\n",
       "    </tr>\n",
       "    <tr>\n",
       "      <th>Manufacturing</th>\n",
       "      <td>6634</td>\n",
       "      <td>2846</td>\n",
       "    </tr>\n",
       "    <tr>\n",
       "      <th>Personal Use</th>\n",
       "      <td>47935</td>\n",
       "      <td>25703</td>\n",
       "    </tr>\n",
       "    <tr>\n",
       "      <th>Retail</th>\n",
       "      <td>199715</td>\n",
       "      <td>26747</td>\n",
       "    </tr>\n",
       "    <tr>\n",
       "      <th>Services</th>\n",
       "      <td>63000</td>\n",
       "      <td>13102</td>\n",
       "    </tr>\n",
       "    <tr>\n",
       "      <th>Transportation</th>\n",
       "      <td>9761</td>\n",
       "      <td>7790</td>\n",
       "    </tr>\n",
       "    <tr>\n",
       "      <th>Wholesale</th>\n",
       "      <td>605</td>\n",
       "      <td>335</td>\n",
       "    </tr>\n",
       "  </tbody>\n",
       "</table>\n",
       "</div>"
      ],
      "text/plain": [
       "                anzahl_female  anzahl_male\n",
       "sector                                    \n",
       "Agriculture            259228       110613\n",
       "Arts                    21497         2117\n",
       "Clothing                80353         8176\n",
       "Construction             6158         4367\n",
       "Education               22056        12151\n",
       "Entertainment             550          465\n",
       "Food                   285541        39542\n",
       "Health                  10979         4053\n",
       "Housing                 27536         9346\n",
       "Manufacturing            6634         2846\n",
       "Personal Use            47935        25703\n",
       "Retail                 199715        26747\n",
       "Services                63000        13102\n",
       "Transportation           9761         7790\n",
       "Wholesale                 605          335"
      ]
     },
     "execution_count": 6,
     "metadata": {},
     "output_type": "execute_result"
    }
   ],
   "source": [
    "df_anzahl_geschlecht = df.groupby(by='sector').agg(anzahl_female = ('borrowers_female', 'sum'), anzahl_male = ('borrowers_male', 'sum'))\n",
    "df_anzahl_geschlecht"
   ]
  },
  {
   "cell_type": "code",
   "execution_count": 8,
   "id": "ec97ea67",
   "metadata": {
    "ExecuteTime": {
     "end_time": "2023-08-19T10:08:36.197550Z",
     "start_time": "2023-08-19T10:08:36.179056Z"
    }
   },
   "outputs": [],
   "source": [
    "# Mehrere Frauen haben Projekte als Männer, besonders in 'sector' Food.\n",
    "#Frauen sind meistens Arbeitslos und sie sind gut in Nahrungsmittelindustrie."
   ]
  },
  {
   "cell_type": "code",
   "execution_count": 7,
   "id": "5a7cf185",
   "metadata": {
    "ExecuteTime": {
     "end_time": "2023-08-19T10:07:57.603011Z",
     "start_time": "2023-08-19T10:07:57.457332Z"
    }
   },
   "outputs": [
    {
     "data": {
      "text/html": [
       "<div>\n",
       "<style scoped>\n",
       "    .dataframe tbody tr th:only-of-type {\n",
       "        vertical-align: middle;\n",
       "    }\n",
       "\n",
       "    .dataframe tbody tr th {\n",
       "        vertical-align: top;\n",
       "    }\n",
       "\n",
       "    .dataframe thead th {\n",
       "        text-align: right;\n",
       "    }\n",
       "</style>\n",
       "<table border=\"1\" class=\"dataframe\">\n",
       "  <thead>\n",
       "    <tr style=\"text-align: right;\">\n",
       "      <th></th>\n",
       "      <th>repayment_interval</th>\n",
       "      <th>sector</th>\n",
       "      <th>avg_funded_amount</th>\n",
       "    </tr>\n",
       "  </thead>\n",
       "  <tbody>\n",
       "    <tr>\n",
       "      <th>14</th>\n",
       "      <td>bullet</td>\n",
       "      <td>Wholesale</td>\n",
       "      <td>1531.696429</td>\n",
       "    </tr>\n",
       "    <tr>\n",
       "      <th>7</th>\n",
       "      <td>bullet</td>\n",
       "      <td>Health</td>\n",
       "      <td>1263.405797</td>\n",
       "    </tr>\n",
       "    <tr>\n",
       "      <th>1</th>\n",
       "      <td>bullet</td>\n",
       "      <td>Arts</td>\n",
       "      <td>1106.984182</td>\n",
       "    </tr>\n",
       "    <tr>\n",
       "      <th>0</th>\n",
       "      <td>bullet</td>\n",
       "      <td>Agriculture</td>\n",
       "      <td>809.093423</td>\n",
       "    </tr>\n",
       "    <tr>\n",
       "      <th>9</th>\n",
       "      <td>bullet</td>\n",
       "      <td>Manufacturing</td>\n",
       "      <td>765.909091</td>\n",
       "    </tr>\n",
       "    <tr>\n",
       "      <th>6</th>\n",
       "      <td>bullet</td>\n",
       "      <td>Food</td>\n",
       "      <td>709.542876</td>\n",
       "    </tr>\n",
       "    <tr>\n",
       "      <th>12</th>\n",
       "      <td>bullet</td>\n",
       "      <td>Services</td>\n",
       "      <td>702.110055</td>\n",
       "    </tr>\n",
       "    <tr>\n",
       "      <th>11</th>\n",
       "      <td>bullet</td>\n",
       "      <td>Retail</td>\n",
       "      <td>670.972222</td>\n",
       "    </tr>\n",
       "    <tr>\n",
       "      <th>4</th>\n",
       "      <td>bullet</td>\n",
       "      <td>Education</td>\n",
       "      <td>657.604360</td>\n",
       "    </tr>\n",
       "    <tr>\n",
       "      <th>8</th>\n",
       "      <td>bullet</td>\n",
       "      <td>Housing</td>\n",
       "      <td>612.514286</td>\n",
       "    </tr>\n",
       "    <tr>\n",
       "      <th>2</th>\n",
       "      <td>bullet</td>\n",
       "      <td>Clothing</td>\n",
       "      <td>594.088717</td>\n",
       "    </tr>\n",
       "    <tr>\n",
       "      <th>3</th>\n",
       "      <td>bullet</td>\n",
       "      <td>Construction</td>\n",
       "      <td>584.607509</td>\n",
       "    </tr>\n",
       "    <tr>\n",
       "      <th>13</th>\n",
       "      <td>bullet</td>\n",
       "      <td>Transportation</td>\n",
       "      <td>538.669951</td>\n",
       "    </tr>\n",
       "    <tr>\n",
       "      <th>5</th>\n",
       "      <td>bullet</td>\n",
       "      <td>Entertainment</td>\n",
       "      <td>497.387097</td>\n",
       "    </tr>\n",
       "    <tr>\n",
       "      <th>10</th>\n",
       "      <td>bullet</td>\n",
       "      <td>Personal Use</td>\n",
       "      <td>482.291002</td>\n",
       "    </tr>\n",
       "    <tr>\n",
       "      <th>29</th>\n",
       "      <td>irregular</td>\n",
       "      <td>Wholesale</td>\n",
       "      <td>1552.439024</td>\n",
       "    </tr>\n",
       "    <tr>\n",
       "      <th>22</th>\n",
       "      <td>irregular</td>\n",
       "      <td>Health</td>\n",
       "      <td>1338.648730</td>\n",
       "    </tr>\n",
       "    <tr>\n",
       "      <th>19</th>\n",
       "      <td>irregular</td>\n",
       "      <td>Education</td>\n",
       "      <td>1248.484142</td>\n",
       "    </tr>\n",
       "    <tr>\n",
       "      <th>17</th>\n",
       "      <td>irregular</td>\n",
       "      <td>Clothing</td>\n",
       "      <td>1069.816688</td>\n",
       "    </tr>\n",
       "    <tr>\n",
       "      <th>18</th>\n",
       "      <td>irregular</td>\n",
       "      <td>Construction</td>\n",
       "      <td>927.731092</td>\n",
       "    </tr>\n",
       "    <tr>\n",
       "      <th>27</th>\n",
       "      <td>irregular</td>\n",
       "      <td>Services</td>\n",
       "      <td>883.789110</td>\n",
       "    </tr>\n",
       "    <tr>\n",
       "      <th>16</th>\n",
       "      <td>irregular</td>\n",
       "      <td>Arts</td>\n",
       "      <td>727.432139</td>\n",
       "    </tr>\n",
       "    <tr>\n",
       "      <th>21</th>\n",
       "      <td>irregular</td>\n",
       "      <td>Food</td>\n",
       "      <td>711.985190</td>\n",
       "    </tr>\n",
       "    <tr>\n",
       "      <th>24</th>\n",
       "      <td>irregular</td>\n",
       "      <td>Manufacturing</td>\n",
       "      <td>661.371100</td>\n",
       "    </tr>\n",
       "    <tr>\n",
       "      <th>26</th>\n",
       "      <td>irregular</td>\n",
       "      <td>Retail</td>\n",
       "      <td>618.139020</td>\n",
       "    </tr>\n",
       "    <tr>\n",
       "      <th>20</th>\n",
       "      <td>irregular</td>\n",
       "      <td>Entertainment</td>\n",
       "      <td>589.601770</td>\n",
       "    </tr>\n",
       "    <tr>\n",
       "      <th>15</th>\n",
       "      <td>irregular</td>\n",
       "      <td>Agriculture</td>\n",
       "      <td>567.519031</td>\n",
       "    </tr>\n",
       "    <tr>\n",
       "      <th>28</th>\n",
       "      <td>irregular</td>\n",
       "      <td>Transportation</td>\n",
       "      <td>495.951258</td>\n",
       "    </tr>\n",
       "    <tr>\n",
       "      <th>23</th>\n",
       "      <td>irregular</td>\n",
       "      <td>Housing</td>\n",
       "      <td>456.153540</td>\n",
       "    </tr>\n",
       "    <tr>\n",
       "      <th>25</th>\n",
       "      <td>irregular</td>\n",
       "      <td>Personal Use</td>\n",
       "      <td>448.651334</td>\n",
       "    </tr>\n",
       "    <tr>\n",
       "      <th>35</th>\n",
       "      <td>monthly</td>\n",
       "      <td>Entertainment</td>\n",
       "      <td>1814.174107</td>\n",
       "    </tr>\n",
       "    <tr>\n",
       "      <th>44</th>\n",
       "      <td>monthly</td>\n",
       "      <td>Wholesale</td>\n",
       "      <td>1397.403382</td>\n",
       "    </tr>\n",
       "    <tr>\n",
       "      <th>31</th>\n",
       "      <td>monthly</td>\n",
       "      <td>Arts</td>\n",
       "      <td>1162.222885</td>\n",
       "    </tr>\n",
       "    <tr>\n",
       "      <th>32</th>\n",
       "      <td>monthly</td>\n",
       "      <td>Clothing</td>\n",
       "      <td>1099.141392</td>\n",
       "    </tr>\n",
       "    <tr>\n",
       "      <th>33</th>\n",
       "      <td>monthly</td>\n",
       "      <td>Construction</td>\n",
       "      <td>1067.860381</td>\n",
       "    </tr>\n",
       "    <tr>\n",
       "      <th>36</th>\n",
       "      <td>monthly</td>\n",
       "      <td>Food</td>\n",
       "      <td>1042.741097</td>\n",
       "    </tr>\n",
       "    <tr>\n",
       "      <th>42</th>\n",
       "      <td>monthly</td>\n",
       "      <td>Services</td>\n",
       "      <td>1040.605014</td>\n",
       "    </tr>\n",
       "    <tr>\n",
       "      <th>39</th>\n",
       "      <td>monthly</td>\n",
       "      <td>Manufacturing</td>\n",
       "      <td>1024.834188</td>\n",
       "    </tr>\n",
       "    <tr>\n",
       "      <th>34</th>\n",
       "      <td>monthly</td>\n",
       "      <td>Education</td>\n",
       "      <td>968.188439</td>\n",
       "    </tr>\n",
       "    <tr>\n",
       "      <th>41</th>\n",
       "      <td>monthly</td>\n",
       "      <td>Retail</td>\n",
       "      <td>928.268389</td>\n",
       "    </tr>\n",
       "    <tr>\n",
       "      <th>37</th>\n",
       "      <td>monthly</td>\n",
       "      <td>Health</td>\n",
       "      <td>916.320244</td>\n",
       "    </tr>\n",
       "    <tr>\n",
       "      <th>30</th>\n",
       "      <td>monthly</td>\n",
       "      <td>Agriculture</td>\n",
       "      <td>836.985163</td>\n",
       "    </tr>\n",
       "    <tr>\n",
       "      <th>43</th>\n",
       "      <td>monthly</td>\n",
       "      <td>Transportation</td>\n",
       "      <td>746.470861</td>\n",
       "    </tr>\n",
       "    <tr>\n",
       "      <th>38</th>\n",
       "      <td>monthly</td>\n",
       "      <td>Housing</td>\n",
       "      <td>730.091324</td>\n",
       "    </tr>\n",
       "    <tr>\n",
       "      <th>40</th>\n",
       "      <td>monthly</td>\n",
       "      <td>Personal Use</td>\n",
       "      <td>508.585845</td>\n",
       "    </tr>\n",
       "    <tr>\n",
       "      <th>50</th>\n",
       "      <td>weekly</td>\n",
       "      <td>Health</td>\n",
       "      <td>332.692308</td>\n",
       "    </tr>\n",
       "    <tr>\n",
       "      <th>47</th>\n",
       "      <td>weekly</td>\n",
       "      <td>Clothing</td>\n",
       "      <td>254.477612</td>\n",
       "    </tr>\n",
       "    <tr>\n",
       "      <th>46</th>\n",
       "      <td>weekly</td>\n",
       "      <td>Arts</td>\n",
       "      <td>240.000000</td>\n",
       "    </tr>\n",
       "    <tr>\n",
       "      <th>51</th>\n",
       "      <td>weekly</td>\n",
       "      <td>Retail</td>\n",
       "      <td>231.854839</td>\n",
       "    </tr>\n",
       "    <tr>\n",
       "      <th>49</th>\n",
       "      <td>weekly</td>\n",
       "      <td>Food</td>\n",
       "      <td>229.896907</td>\n",
       "    </tr>\n",
       "    <tr>\n",
       "      <th>53</th>\n",
       "      <td>weekly</td>\n",
       "      <td>Transportation</td>\n",
       "      <td>227.083333</td>\n",
       "    </tr>\n",
       "    <tr>\n",
       "      <th>48</th>\n",
       "      <td>weekly</td>\n",
       "      <td>Construction</td>\n",
       "      <td>225.000000</td>\n",
       "    </tr>\n",
       "    <tr>\n",
       "      <th>52</th>\n",
       "      <td>weekly</td>\n",
       "      <td>Services</td>\n",
       "      <td>221.078431</td>\n",
       "    </tr>\n",
       "    <tr>\n",
       "      <th>45</th>\n",
       "      <td>weekly</td>\n",
       "      <td>Agriculture</td>\n",
       "      <td>201.923077</td>\n",
       "    </tr>\n",
       "  </tbody>\n",
       "</table>\n",
       "</div>"
      ],
      "text/plain": [
       "   repayment_interval          sector  avg_funded_amount\n",
       "14             bullet       Wholesale        1531.696429\n",
       "7              bullet          Health        1263.405797\n",
       "1              bullet            Arts        1106.984182\n",
       "0              bullet     Agriculture         809.093423\n",
       "9              bullet   Manufacturing         765.909091\n",
       "6              bullet            Food         709.542876\n",
       "12             bullet        Services         702.110055\n",
       "11             bullet          Retail         670.972222\n",
       "4              bullet       Education         657.604360\n",
       "8              bullet         Housing         612.514286\n",
       "2              bullet        Clothing         594.088717\n",
       "3              bullet    Construction         584.607509\n",
       "13             bullet  Transportation         538.669951\n",
       "5              bullet   Entertainment         497.387097\n",
       "10             bullet    Personal Use         482.291002\n",
       "29          irregular       Wholesale        1552.439024\n",
       "22          irregular          Health        1338.648730\n",
       "19          irregular       Education        1248.484142\n",
       "17          irregular        Clothing        1069.816688\n",
       "18          irregular    Construction         927.731092\n",
       "27          irregular        Services         883.789110\n",
       "16          irregular            Arts         727.432139\n",
       "21          irregular            Food         711.985190\n",
       "24          irregular   Manufacturing         661.371100\n",
       "26          irregular          Retail         618.139020\n",
       "20          irregular   Entertainment         589.601770\n",
       "15          irregular     Agriculture         567.519031\n",
       "28          irregular  Transportation         495.951258\n",
       "23          irregular         Housing         456.153540\n",
       "25          irregular    Personal Use         448.651334\n",
       "35            monthly   Entertainment        1814.174107\n",
       "44            monthly       Wholesale        1397.403382\n",
       "31            monthly            Arts        1162.222885\n",
       "32            monthly        Clothing        1099.141392\n",
       "33            monthly    Construction        1067.860381\n",
       "36            monthly            Food        1042.741097\n",
       "42            monthly        Services        1040.605014\n",
       "39            monthly   Manufacturing        1024.834188\n",
       "34            monthly       Education         968.188439\n",
       "41            monthly          Retail         928.268389\n",
       "37            monthly          Health         916.320244\n",
       "30            monthly     Agriculture         836.985163\n",
       "43            monthly  Transportation         746.470861\n",
       "38            monthly         Housing         730.091324\n",
       "40            monthly    Personal Use         508.585845\n",
       "50             weekly          Health         332.692308\n",
       "47             weekly        Clothing         254.477612\n",
       "46             weekly            Arts         240.000000\n",
       "51             weekly          Retail         231.854839\n",
       "49             weekly            Food         229.896907\n",
       "53             weekly  Transportation         227.083333\n",
       "48             weekly    Construction         225.000000\n",
       "52             weekly        Services         221.078431\n",
       "45             weekly     Agriculture         201.923077"
      ]
     },
     "execution_count": 7,
     "metadata": {},
     "output_type": "execute_result"
    }
   ],
   "source": [
    "df_kosten = df.groupby(by=['repayment_interval','sector'], as_index=False).agg(avg_funded_amount=('funded_amount','mean'))\n",
    "df_kosten.sort_values(by=['repayment_interval', 'avg_funded_amount'], ascending=(True, False))"
   ]
  },
  {
   "cell_type": "code",
   "execution_count": 9,
   "id": "d9e77bde",
   "metadata": {
    "ExecuteTime": {
     "end_time": "2023-08-19T10:08:56.002649Z",
     "start_time": "2023-08-19T10:08:55.987110Z"
    }
   },
   "outputs": [],
   "source": [
    "# In dieser Tabelle sehen wir das;  dass 1. der Sektor 'Wholesale' in 'bullet' maximal finanziert,\n",
    "#                                        2. der Sektor 'Wholesale' in 'irregular' maximal finanziert,\n",
    "#                                        3. der Sektor 'Entertainment' in 'monthly' maximal finanziert,\n",
    "#                                        4. der Sektor 'Health' in 'weekly' maximal finanziert."
   ]
  },
  {
   "cell_type": "code",
   "execution_count": 10,
   "id": "3d84497a",
   "metadata": {
    "ExecuteTime": {
     "end_time": "2023-08-19T10:09:17.284556Z",
     "start_time": "2023-08-19T10:09:17.202776Z"
    }
   },
   "outputs": [
    {
     "data": {
      "text/html": [
       "<div>\n",
       "<style scoped>\n",
       "    .dataframe tbody tr th:only-of-type {\n",
       "        vertical-align: middle;\n",
       "    }\n",
       "\n",
       "    .dataframe tbody tr th {\n",
       "        vertical-align: top;\n",
       "    }\n",
       "\n",
       "    .dataframe thead th {\n",
       "        text-align: right;\n",
       "    }\n",
       "</style>\n",
       "<table border=\"1\" class=\"dataframe\">\n",
       "  <thead>\n",
       "    <tr style=\"text-align: right;\">\n",
       "      <th></th>\n",
       "      <th>country</th>\n",
       "      <th>anzahl_frauen</th>\n",
       "      <th>anzahl_männer</th>\n",
       "    </tr>\n",
       "  </thead>\n",
       "  <tbody>\n",
       "    <tr>\n",
       "      <th>0</th>\n",
       "      <td>Afghanistan</td>\n",
       "      <td>2</td>\n",
       "      <td>0</td>\n",
       "    </tr>\n",
       "    <tr>\n",
       "      <th>1</th>\n",
       "      <td>Albania</td>\n",
       "      <td>1034</td>\n",
       "      <td>900</td>\n",
       "    </tr>\n",
       "    <tr>\n",
       "      <th>2</th>\n",
       "      <td>Armenia</td>\n",
       "      <td>5385</td>\n",
       "      <td>3244</td>\n",
       "    </tr>\n",
       "    <tr>\n",
       "      <th>3</th>\n",
       "      <td>Azerbaijan</td>\n",
       "      <td>740</td>\n",
       "      <td>1207</td>\n",
       "    </tr>\n",
       "    <tr>\n",
       "      <th>4</th>\n",
       "      <td>Belize</td>\n",
       "      <td>13</td>\n",
       "      <td>111</td>\n",
       "    </tr>\n",
       "    <tr>\n",
       "      <th>...</th>\n",
       "      <td>...</td>\n",
       "      <td>...</td>\n",
       "      <td>...</td>\n",
       "    </tr>\n",
       "    <tr>\n",
       "      <th>82</th>\n",
       "      <td>Vietnam</td>\n",
       "      <td>25732</td>\n",
       "      <td>1587</td>\n",
       "    </tr>\n",
       "    <tr>\n",
       "      <th>83</th>\n",
       "      <td>Virgin Islands</td>\n",
       "      <td>2</td>\n",
       "      <td>0</td>\n",
       "    </tr>\n",
       "    <tr>\n",
       "      <th>84</th>\n",
       "      <td>Yemen</td>\n",
       "      <td>4333</td>\n",
       "      <td>1137</td>\n",
       "    </tr>\n",
       "    <tr>\n",
       "      <th>85</th>\n",
       "      <td>Zambia</td>\n",
       "      <td>465</td>\n",
       "      <td>517</td>\n",
       "    </tr>\n",
       "    <tr>\n",
       "      <th>86</th>\n",
       "      <td>Zimbabwe</td>\n",
       "      <td>6823</td>\n",
       "      <td>179</td>\n",
       "    </tr>\n",
       "  </tbody>\n",
       "</table>\n",
       "<p>87 rows × 3 columns</p>\n",
       "</div>"
      ],
      "text/plain": [
       "           country  anzahl_frauen  anzahl_männer\n",
       "0      Afghanistan              2              0\n",
       "1          Albania           1034            900\n",
       "2          Armenia           5385           3244\n",
       "3       Azerbaijan            740           1207\n",
       "4           Belize             13            111\n",
       "..             ...            ...            ...\n",
       "82         Vietnam          25732           1587\n",
       "83  Virgin Islands              2              0\n",
       "84           Yemen           4333           1137\n",
       "85          Zambia            465            517\n",
       "86        Zimbabwe           6823            179\n",
       "\n",
       "[87 rows x 3 columns]"
      ]
     },
     "execution_count": 10,
     "metadata": {},
     "output_type": "execute_result"
    }
   ],
   "source": [
    "df_country = df.groupby(by=['country'], as_index=False).agg(anzahl_frauen=('borrowers_female','sum'), anzahl_männer=('borrowers_male','sum'))\n",
    "df_country"
   ]
  },
  {
   "cell_type": "code",
   "execution_count": 11,
   "id": "d42aa8d7",
   "metadata": {
    "ExecuteTime": {
     "end_time": "2023-08-19T10:09:48.257789Z",
     "start_time": "2023-08-19T10:09:48.014505Z"
    }
   },
   "outputs": [
    {
     "data": {
      "text/html": [
       "<div>\n",
       "<style scoped>\n",
       "    .dataframe tbody tr th:only-of-type {\n",
       "        vertical-align: middle;\n",
       "    }\n",
       "\n",
       "    .dataframe tbody tr th {\n",
       "        vertical-align: top;\n",
       "    }\n",
       "\n",
       "    .dataframe thead th {\n",
       "        text-align: right;\n",
       "    }\n",
       "</style>\n",
       "<table border=\"1\" class=\"dataframe\">\n",
       "  <thead>\n",
       "    <tr style=\"text-align: right;\">\n",
       "      <th></th>\n",
       "      <th>country</th>\n",
       "      <th>region</th>\n",
       "      <th>anzahl_frauen</th>\n",
       "      <th>anzahl_männer</th>\n",
       "    </tr>\n",
       "  </thead>\n",
       "  <tbody>\n",
       "    <tr>\n",
       "      <th>0</th>\n",
       "      <td>Afghanistan</td>\n",
       "      <td>Kandahar City</td>\n",
       "      <td>2</td>\n",
       "      <td>0</td>\n",
       "    </tr>\n",
       "    <tr>\n",
       "      <th>1</th>\n",
       "      <td>Albania</td>\n",
       "      <td>Cerrik</td>\n",
       "      <td>0</td>\n",
       "      <td>1</td>\n",
       "    </tr>\n",
       "    <tr>\n",
       "      <th>2</th>\n",
       "      <td>Albania</td>\n",
       "      <td>Elbasan</td>\n",
       "      <td>105</td>\n",
       "      <td>138</td>\n",
       "    </tr>\n",
       "    <tr>\n",
       "      <th>3</th>\n",
       "      <td>Albania</td>\n",
       "      <td>Korce</td>\n",
       "      <td>586</td>\n",
       "      <td>482</td>\n",
       "    </tr>\n",
       "    <tr>\n",
       "      <th>4</th>\n",
       "      <td>Albania</td>\n",
       "      <td>Lac</td>\n",
       "      <td>75</td>\n",
       "      <td>47</td>\n",
       "    </tr>\n",
       "    <tr>\n",
       "      <th>...</th>\n",
       "      <td>...</td>\n",
       "      <td>...</td>\n",
       "      <td>...</td>\n",
       "      <td>...</td>\n",
       "    </tr>\n",
       "    <tr>\n",
       "      <th>12749</th>\n",
       "      <td>Zimbabwe</td>\n",
       "      <td>Shurugwi</td>\n",
       "      <td>120</td>\n",
       "      <td>0</td>\n",
       "    </tr>\n",
       "    <tr>\n",
       "      <th>12750</th>\n",
       "      <td>Zimbabwe</td>\n",
       "      <td>Umguza</td>\n",
       "      <td>54</td>\n",
       "      <td>0</td>\n",
       "    </tr>\n",
       "    <tr>\n",
       "      <th>12751</th>\n",
       "      <td>Zimbabwe</td>\n",
       "      <td>Umzingwane</td>\n",
       "      <td>43</td>\n",
       "      <td>0</td>\n",
       "    </tr>\n",
       "    <tr>\n",
       "      <th>12752</th>\n",
       "      <td>Zimbabwe</td>\n",
       "      <td>mwenezi</td>\n",
       "      <td>106</td>\n",
       "      <td>0</td>\n",
       "    </tr>\n",
       "    <tr>\n",
       "      <th>12753</th>\n",
       "      <td>Zimbabwe</td>\n",
       "      <td>wedza</td>\n",
       "      <td>109</td>\n",
       "      <td>0</td>\n",
       "    </tr>\n",
       "  </tbody>\n",
       "</table>\n",
       "<p>12754 rows × 4 columns</p>\n",
       "</div>"
      ],
      "text/plain": [
       "           country         region  anzahl_frauen  anzahl_männer\n",
       "0      Afghanistan  Kandahar City              2              0\n",
       "1          Albania         Cerrik              0              1\n",
       "2          Albania        Elbasan            105            138\n",
       "3          Albania          Korce            586            482\n",
       "4          Albania            Lac             75             47\n",
       "...            ...            ...            ...            ...\n",
       "12749     Zimbabwe       Shurugwi            120              0\n",
       "12750     Zimbabwe         Umguza             54              0\n",
       "12751     Zimbabwe     Umzingwane             43              0\n",
       "12752     Zimbabwe        mwenezi            106              0\n",
       "12753     Zimbabwe          wedza            109              0\n",
       "\n",
       "[12754 rows x 4 columns]"
      ]
     },
     "execution_count": 11,
     "metadata": {},
     "output_type": "execute_result"
    }
   ],
   "source": [
    "df_region_geschlecht =df.groupby(by=['country','region'], as_index=False).agg(anzahl_frauen=('borrowers_female','sum'), anzahl_männer=('borrowers_male','sum'))\n",
    "df_region_geschlecht"
   ]
  },
  {
   "cell_type": "markdown",
   "id": "671c6760",
   "metadata": {},
   "source": [
    "# Dashboard"
   ]
  },
  {
   "cell_type": "code",
   "execution_count": 12,
   "id": "27543a1e",
   "metadata": {
    "ExecuteTime": {
     "end_time": "2023-08-19T10:10:50.643757Z",
     "start_time": "2023-08-19T10:10:49.405911Z"
    }
   },
   "outputs": [],
   "source": [
    "# benötigte Bibliotheken importieren\n",
    "\n",
    "## für die Daten\n",
    "\n",
    "import pandas as pd \n",
    "\n",
    "## für die Visualisierung\n",
    "\n",
    "import plotly.express as px \n",
    "\n",
    "## für die Dash-App\n",
    "\n",
    "from jupyter_dash import JupyterDash\n",
    "from dash import dcc\n",
    "#import dash_core_components as dcc \n",
    "\n",
    "from dash import html\n",
    "#import dash_html_components as html \n",
    "\n",
    "from dash.dependencies import Input, Output\n",
    "import plotly.graph_objects as go"
   ]
  },
  {
   "cell_type": "code",
   "execution_count": 13,
   "id": "27d56be5",
   "metadata": {
    "ExecuteTime": {
     "end_time": "2023-08-19T10:11:41.298653Z",
     "start_time": "2023-08-19T10:11:41.199703Z"
    }
   },
   "outputs": [
    {
     "data": {
      "application/vnd.plotly.v1+json": {
       "config": {
        "plotlyServerURL": "https://plot.ly"
       },
       "data": [
        {
         "name": "anzahl_female",
         "type": "bar",
         "x": [
          "Agriculture",
          "Arts",
          "Clothing",
          "Construction",
          "Education",
          "Entertainment",
          "Food",
          "Health",
          "Housing",
          "Manufacturing",
          "Personal Use",
          "Retail",
          "Services",
          "Transportation",
          "Wholesale"
         ],
         "y": [
          259228,
          21497,
          80353,
          6158,
          22056,
          550,
          285541,
          10979,
          27536,
          6634,
          47935,
          199715,
          63000,
          9761,
          605
         ]
        },
        {
         "name": "anzahl_male",
         "type": "bar",
         "x": [
          "Agriculture",
          "Arts",
          "Clothing",
          "Construction",
          "Education",
          "Entertainment",
          "Food",
          "Health",
          "Housing",
          "Manufacturing",
          "Personal Use",
          "Retail",
          "Services",
          "Transportation",
          "Wholesale"
         ],
         "y": [
          110613,
          2117,
          8176,
          4367,
          12151,
          465,
          39542,
          4053,
          9346,
          2846,
          25703,
          26747,
          13102,
          7790,
          335
         ]
        }
       ],
       "layout": {
        "template": {
         "data": {
          "bar": [
           {
            "error_x": {
             "color": "#2a3f5f"
            },
            "error_y": {
             "color": "#2a3f5f"
            },
            "marker": {
             "line": {
              "color": "#E5ECF6",
              "width": 0.5
             },
             "pattern": {
              "fillmode": "overlay",
              "size": 10,
              "solidity": 0.2
             }
            },
            "type": "bar"
           }
          ],
          "barpolar": [
           {
            "marker": {
             "line": {
              "color": "#E5ECF6",
              "width": 0.5
             },
             "pattern": {
              "fillmode": "overlay",
              "size": 10,
              "solidity": 0.2
             }
            },
            "type": "barpolar"
           }
          ],
          "carpet": [
           {
            "aaxis": {
             "endlinecolor": "#2a3f5f",
             "gridcolor": "white",
             "linecolor": "white",
             "minorgridcolor": "white",
             "startlinecolor": "#2a3f5f"
            },
            "baxis": {
             "endlinecolor": "#2a3f5f",
             "gridcolor": "white",
             "linecolor": "white",
             "minorgridcolor": "white",
             "startlinecolor": "#2a3f5f"
            },
            "type": "carpet"
           }
          ],
          "choropleth": [
           {
            "colorbar": {
             "outlinewidth": 0,
             "ticks": ""
            },
            "type": "choropleth"
           }
          ],
          "contour": [
           {
            "colorbar": {
             "outlinewidth": 0,
             "ticks": ""
            },
            "colorscale": [
             [
              0,
              "#0d0887"
             ],
             [
              0.1111111111111111,
              "#46039f"
             ],
             [
              0.2222222222222222,
              "#7201a8"
             ],
             [
              0.3333333333333333,
              "#9c179e"
             ],
             [
              0.4444444444444444,
              "#bd3786"
             ],
             [
              0.5555555555555556,
              "#d8576b"
             ],
             [
              0.6666666666666666,
              "#ed7953"
             ],
             [
              0.7777777777777778,
              "#fb9f3a"
             ],
             [
              0.8888888888888888,
              "#fdca26"
             ],
             [
              1,
              "#f0f921"
             ]
            ],
            "type": "contour"
           }
          ],
          "contourcarpet": [
           {
            "colorbar": {
             "outlinewidth": 0,
             "ticks": ""
            },
            "type": "contourcarpet"
           }
          ],
          "heatmap": [
           {
            "colorbar": {
             "outlinewidth": 0,
             "ticks": ""
            },
            "colorscale": [
             [
              0,
              "#0d0887"
             ],
             [
              0.1111111111111111,
              "#46039f"
             ],
             [
              0.2222222222222222,
              "#7201a8"
             ],
             [
              0.3333333333333333,
              "#9c179e"
             ],
             [
              0.4444444444444444,
              "#bd3786"
             ],
             [
              0.5555555555555556,
              "#d8576b"
             ],
             [
              0.6666666666666666,
              "#ed7953"
             ],
             [
              0.7777777777777778,
              "#fb9f3a"
             ],
             [
              0.8888888888888888,
              "#fdca26"
             ],
             [
              1,
              "#f0f921"
             ]
            ],
            "type": "heatmap"
           }
          ],
          "heatmapgl": [
           {
            "colorbar": {
             "outlinewidth": 0,
             "ticks": ""
            },
            "colorscale": [
             [
              0,
              "#0d0887"
             ],
             [
              0.1111111111111111,
              "#46039f"
             ],
             [
              0.2222222222222222,
              "#7201a8"
             ],
             [
              0.3333333333333333,
              "#9c179e"
             ],
             [
              0.4444444444444444,
              "#bd3786"
             ],
             [
              0.5555555555555556,
              "#d8576b"
             ],
             [
              0.6666666666666666,
              "#ed7953"
             ],
             [
              0.7777777777777778,
              "#fb9f3a"
             ],
             [
              0.8888888888888888,
              "#fdca26"
             ],
             [
              1,
              "#f0f921"
             ]
            ],
            "type": "heatmapgl"
           }
          ],
          "histogram": [
           {
            "marker": {
             "pattern": {
              "fillmode": "overlay",
              "size": 10,
              "solidity": 0.2
             }
            },
            "type": "histogram"
           }
          ],
          "histogram2d": [
           {
            "colorbar": {
             "outlinewidth": 0,
             "ticks": ""
            },
            "colorscale": [
             [
              0,
              "#0d0887"
             ],
             [
              0.1111111111111111,
              "#46039f"
             ],
             [
              0.2222222222222222,
              "#7201a8"
             ],
             [
              0.3333333333333333,
              "#9c179e"
             ],
             [
              0.4444444444444444,
              "#bd3786"
             ],
             [
              0.5555555555555556,
              "#d8576b"
             ],
             [
              0.6666666666666666,
              "#ed7953"
             ],
             [
              0.7777777777777778,
              "#fb9f3a"
             ],
             [
              0.8888888888888888,
              "#fdca26"
             ],
             [
              1,
              "#f0f921"
             ]
            ],
            "type": "histogram2d"
           }
          ],
          "histogram2dcontour": [
           {
            "colorbar": {
             "outlinewidth": 0,
             "ticks": ""
            },
            "colorscale": [
             [
              0,
              "#0d0887"
             ],
             [
              0.1111111111111111,
              "#46039f"
             ],
             [
              0.2222222222222222,
              "#7201a8"
             ],
             [
              0.3333333333333333,
              "#9c179e"
             ],
             [
              0.4444444444444444,
              "#bd3786"
             ],
             [
              0.5555555555555556,
              "#d8576b"
             ],
             [
              0.6666666666666666,
              "#ed7953"
             ],
             [
              0.7777777777777778,
              "#fb9f3a"
             ],
             [
              0.8888888888888888,
              "#fdca26"
             ],
             [
              1,
              "#f0f921"
             ]
            ],
            "type": "histogram2dcontour"
           }
          ],
          "mesh3d": [
           {
            "colorbar": {
             "outlinewidth": 0,
             "ticks": ""
            },
            "type": "mesh3d"
           }
          ],
          "parcoords": [
           {
            "line": {
             "colorbar": {
              "outlinewidth": 0,
              "ticks": ""
             }
            },
            "type": "parcoords"
           }
          ],
          "pie": [
           {
            "automargin": true,
            "type": "pie"
           }
          ],
          "scatter": [
           {
            "fillpattern": {
             "fillmode": "overlay",
             "size": 10,
             "solidity": 0.2
            },
            "type": "scatter"
           }
          ],
          "scatter3d": [
           {
            "line": {
             "colorbar": {
              "outlinewidth": 0,
              "ticks": ""
             }
            },
            "marker": {
             "colorbar": {
              "outlinewidth": 0,
              "ticks": ""
             }
            },
            "type": "scatter3d"
           }
          ],
          "scattercarpet": [
           {
            "marker": {
             "colorbar": {
              "outlinewidth": 0,
              "ticks": ""
             }
            },
            "type": "scattercarpet"
           }
          ],
          "scattergeo": [
           {
            "marker": {
             "colorbar": {
              "outlinewidth": 0,
              "ticks": ""
             }
            },
            "type": "scattergeo"
           }
          ],
          "scattergl": [
           {
            "marker": {
             "colorbar": {
              "outlinewidth": 0,
              "ticks": ""
             }
            },
            "type": "scattergl"
           }
          ],
          "scattermapbox": [
           {
            "marker": {
             "colorbar": {
              "outlinewidth": 0,
              "ticks": ""
             }
            },
            "type": "scattermapbox"
           }
          ],
          "scatterpolar": [
           {
            "marker": {
             "colorbar": {
              "outlinewidth": 0,
              "ticks": ""
             }
            },
            "type": "scatterpolar"
           }
          ],
          "scatterpolargl": [
           {
            "marker": {
             "colorbar": {
              "outlinewidth": 0,
              "ticks": ""
             }
            },
            "type": "scatterpolargl"
           }
          ],
          "scatterternary": [
           {
            "marker": {
             "colorbar": {
              "outlinewidth": 0,
              "ticks": ""
             }
            },
            "type": "scatterternary"
           }
          ],
          "surface": [
           {
            "colorbar": {
             "outlinewidth": 0,
             "ticks": ""
            },
            "colorscale": [
             [
              0,
              "#0d0887"
             ],
             [
              0.1111111111111111,
              "#46039f"
             ],
             [
              0.2222222222222222,
              "#7201a8"
             ],
             [
              0.3333333333333333,
              "#9c179e"
             ],
             [
              0.4444444444444444,
              "#bd3786"
             ],
             [
              0.5555555555555556,
              "#d8576b"
             ],
             [
              0.6666666666666666,
              "#ed7953"
             ],
             [
              0.7777777777777778,
              "#fb9f3a"
             ],
             [
              0.8888888888888888,
              "#fdca26"
             ],
             [
              1,
              "#f0f921"
             ]
            ],
            "type": "surface"
           }
          ],
          "table": [
           {
            "cells": {
             "fill": {
              "color": "#EBF0F8"
             },
             "line": {
              "color": "white"
             }
            },
            "header": {
             "fill": {
              "color": "#C8D4E3"
             },
             "line": {
              "color": "white"
             }
            },
            "type": "table"
           }
          ]
         },
         "layout": {
          "annotationdefaults": {
           "arrowcolor": "#2a3f5f",
           "arrowhead": 0,
           "arrowwidth": 1
          },
          "autotypenumbers": "strict",
          "coloraxis": {
           "colorbar": {
            "outlinewidth": 0,
            "ticks": ""
           }
          },
          "colorscale": {
           "diverging": [
            [
             0,
             "#8e0152"
            ],
            [
             0.1,
             "#c51b7d"
            ],
            [
             0.2,
             "#de77ae"
            ],
            [
             0.3,
             "#f1b6da"
            ],
            [
             0.4,
             "#fde0ef"
            ],
            [
             0.5,
             "#f7f7f7"
            ],
            [
             0.6,
             "#e6f5d0"
            ],
            [
             0.7,
             "#b8e186"
            ],
            [
             0.8,
             "#7fbc41"
            ],
            [
             0.9,
             "#4d9221"
            ],
            [
             1,
             "#276419"
            ]
           ],
           "sequential": [
            [
             0,
             "#0d0887"
            ],
            [
             0.1111111111111111,
             "#46039f"
            ],
            [
             0.2222222222222222,
             "#7201a8"
            ],
            [
             0.3333333333333333,
             "#9c179e"
            ],
            [
             0.4444444444444444,
             "#bd3786"
            ],
            [
             0.5555555555555556,
             "#d8576b"
            ],
            [
             0.6666666666666666,
             "#ed7953"
            ],
            [
             0.7777777777777778,
             "#fb9f3a"
            ],
            [
             0.8888888888888888,
             "#fdca26"
            ],
            [
             1,
             "#f0f921"
            ]
           ],
           "sequentialminus": [
            [
             0,
             "#0d0887"
            ],
            [
             0.1111111111111111,
             "#46039f"
            ],
            [
             0.2222222222222222,
             "#7201a8"
            ],
            [
             0.3333333333333333,
             "#9c179e"
            ],
            [
             0.4444444444444444,
             "#bd3786"
            ],
            [
             0.5555555555555556,
             "#d8576b"
            ],
            [
             0.6666666666666666,
             "#ed7953"
            ],
            [
             0.7777777777777778,
             "#fb9f3a"
            ],
            [
             0.8888888888888888,
             "#fdca26"
            ],
            [
             1,
             "#f0f921"
            ]
           ]
          },
          "colorway": [
           "#636efa",
           "#EF553B",
           "#00cc96",
           "#ab63fa",
           "#FFA15A",
           "#19d3f3",
           "#FF6692",
           "#B6E880",
           "#FF97FF",
           "#FECB52"
          ],
          "font": {
           "color": "#2a3f5f"
          },
          "geo": {
           "bgcolor": "white",
           "lakecolor": "white",
           "landcolor": "#E5ECF6",
           "showlakes": true,
           "showland": true,
           "subunitcolor": "white"
          },
          "hoverlabel": {
           "align": "left"
          },
          "hovermode": "closest",
          "mapbox": {
           "style": "light"
          },
          "paper_bgcolor": "white",
          "plot_bgcolor": "#E5ECF6",
          "polar": {
           "angularaxis": {
            "gridcolor": "white",
            "linecolor": "white",
            "ticks": ""
           },
           "bgcolor": "#E5ECF6",
           "radialaxis": {
            "gridcolor": "white",
            "linecolor": "white",
            "ticks": ""
           }
          },
          "scene": {
           "xaxis": {
            "backgroundcolor": "#E5ECF6",
            "gridcolor": "white",
            "gridwidth": 2,
            "linecolor": "white",
            "showbackground": true,
            "ticks": "",
            "zerolinecolor": "white"
           },
           "yaxis": {
            "backgroundcolor": "#E5ECF6",
            "gridcolor": "white",
            "gridwidth": 2,
            "linecolor": "white",
            "showbackground": true,
            "ticks": "",
            "zerolinecolor": "white"
           },
           "zaxis": {
            "backgroundcolor": "#E5ECF6",
            "gridcolor": "white",
            "gridwidth": 2,
            "linecolor": "white",
            "showbackground": true,
            "ticks": "",
            "zerolinecolor": "white"
           }
          },
          "shapedefaults": {
           "line": {
            "color": "#2a3f5f"
           }
          },
          "ternary": {
           "aaxis": {
            "gridcolor": "white",
            "linecolor": "white",
            "ticks": ""
           },
           "baxis": {
            "gridcolor": "white",
            "linecolor": "white",
            "ticks": ""
           },
           "bgcolor": "#E5ECF6",
           "caxis": {
            "gridcolor": "white",
            "linecolor": "white",
            "ticks": ""
           }
          },
          "title": {
           "x": 0.05
          },
          "xaxis": {
           "automargin": true,
           "gridcolor": "white",
           "linecolor": "white",
           "ticks": "",
           "title": {
            "standoff": 15
           },
           "zerolinecolor": "white",
           "zerolinewidth": 2
          },
          "yaxis": {
           "automargin": true,
           "gridcolor": "white",
           "linecolor": "white",
           "ticks": "",
           "title": {
            "standoff": 15
           },
           "zerolinecolor": "white",
           "zerolinewidth": 2
          }
         }
        },
        "xaxis": {
         "tickmode": "array",
         "tickvals": [
          "Agriculture",
          "Arts",
          "Clothing",
          "Construction",
          "Education",
          "Entertainment",
          "Food",
          "Health",
          "Housing",
          "Manufacturing",
          "Personal Use",
          "Retail",
          "Services",
          "Transportation",
          "Wholesale"
         ]
        }
       }
      },
      "text/html": [
       "<div>                            <div id=\"5e295829-c0b4-4a02-a086-76734f5c99c2\" class=\"plotly-graph-div\" style=\"height:525px; width:100%;\"></div>            <script type=\"text/javascript\">                require([\"plotly\"], function(Plotly) {                    window.PLOTLYENV=window.PLOTLYENV || {};                                    if (document.getElementById(\"5e295829-c0b4-4a02-a086-76734f5c99c2\")) {                    Plotly.newPlot(                        \"5e295829-c0b4-4a02-a086-76734f5c99c2\",                        [{\"name\":\"anzahl_female\",\"x\":[\"Agriculture\",\"Arts\",\"Clothing\",\"Construction\",\"Education\",\"Entertainment\",\"Food\",\"Health\",\"Housing\",\"Manufacturing\",\"Personal Use\",\"Retail\",\"Services\",\"Transportation\",\"Wholesale\"],\"y\":[259228,21497,80353,6158,22056,550,285541,10979,27536,6634,47935,199715,63000,9761,605],\"type\":\"bar\"},{\"name\":\"anzahl_male\",\"x\":[\"Agriculture\",\"Arts\",\"Clothing\",\"Construction\",\"Education\",\"Entertainment\",\"Food\",\"Health\",\"Housing\",\"Manufacturing\",\"Personal Use\",\"Retail\",\"Services\",\"Transportation\",\"Wholesale\"],\"y\":[110613,2117,8176,4367,12151,465,39542,4053,9346,2846,25703,26747,13102,7790,335],\"type\":\"bar\"}],                        {\"template\":{\"data\":{\"histogram2dcontour\":[{\"type\":\"histogram2dcontour\",\"colorbar\":{\"outlinewidth\":0,\"ticks\":\"\"},\"colorscale\":[[0.0,\"#0d0887\"],[0.1111111111111111,\"#46039f\"],[0.2222222222222222,\"#7201a8\"],[0.3333333333333333,\"#9c179e\"],[0.4444444444444444,\"#bd3786\"],[0.5555555555555556,\"#d8576b\"],[0.6666666666666666,\"#ed7953\"],[0.7777777777777778,\"#fb9f3a\"],[0.8888888888888888,\"#fdca26\"],[1.0,\"#f0f921\"]]}],\"choropleth\":[{\"type\":\"choropleth\",\"colorbar\":{\"outlinewidth\":0,\"ticks\":\"\"}}],\"histogram2d\":[{\"type\":\"histogram2d\",\"colorbar\":{\"outlinewidth\":0,\"ticks\":\"\"},\"colorscale\":[[0.0,\"#0d0887\"],[0.1111111111111111,\"#46039f\"],[0.2222222222222222,\"#7201a8\"],[0.3333333333333333,\"#9c179e\"],[0.4444444444444444,\"#bd3786\"],[0.5555555555555556,\"#d8576b\"],[0.6666666666666666,\"#ed7953\"],[0.7777777777777778,\"#fb9f3a\"],[0.8888888888888888,\"#fdca26\"],[1.0,\"#f0f921\"]]}],\"heatmap\":[{\"type\":\"heatmap\",\"colorbar\":{\"outlinewidth\":0,\"ticks\":\"\"},\"colorscale\":[[0.0,\"#0d0887\"],[0.1111111111111111,\"#46039f\"],[0.2222222222222222,\"#7201a8\"],[0.3333333333333333,\"#9c179e\"],[0.4444444444444444,\"#bd3786\"],[0.5555555555555556,\"#d8576b\"],[0.6666666666666666,\"#ed7953\"],[0.7777777777777778,\"#fb9f3a\"],[0.8888888888888888,\"#fdca26\"],[1.0,\"#f0f921\"]]}],\"heatmapgl\":[{\"type\":\"heatmapgl\",\"colorbar\":{\"outlinewidth\":0,\"ticks\":\"\"},\"colorscale\":[[0.0,\"#0d0887\"],[0.1111111111111111,\"#46039f\"],[0.2222222222222222,\"#7201a8\"],[0.3333333333333333,\"#9c179e\"],[0.4444444444444444,\"#bd3786\"],[0.5555555555555556,\"#d8576b\"],[0.6666666666666666,\"#ed7953\"],[0.7777777777777778,\"#fb9f3a\"],[0.8888888888888888,\"#fdca26\"],[1.0,\"#f0f921\"]]}],\"contourcarpet\":[{\"type\":\"contourcarpet\",\"colorbar\":{\"outlinewidth\":0,\"ticks\":\"\"}}],\"contour\":[{\"type\":\"contour\",\"colorbar\":{\"outlinewidth\":0,\"ticks\":\"\"},\"colorscale\":[[0.0,\"#0d0887\"],[0.1111111111111111,\"#46039f\"],[0.2222222222222222,\"#7201a8\"],[0.3333333333333333,\"#9c179e\"],[0.4444444444444444,\"#bd3786\"],[0.5555555555555556,\"#d8576b\"],[0.6666666666666666,\"#ed7953\"],[0.7777777777777778,\"#fb9f3a\"],[0.8888888888888888,\"#fdca26\"],[1.0,\"#f0f921\"]]}],\"surface\":[{\"type\":\"surface\",\"colorbar\":{\"outlinewidth\":0,\"ticks\":\"\"},\"colorscale\":[[0.0,\"#0d0887\"],[0.1111111111111111,\"#46039f\"],[0.2222222222222222,\"#7201a8\"],[0.3333333333333333,\"#9c179e\"],[0.4444444444444444,\"#bd3786\"],[0.5555555555555556,\"#d8576b\"],[0.6666666666666666,\"#ed7953\"],[0.7777777777777778,\"#fb9f3a\"],[0.8888888888888888,\"#fdca26\"],[1.0,\"#f0f921\"]]}],\"mesh3d\":[{\"type\":\"mesh3d\",\"colorbar\":{\"outlinewidth\":0,\"ticks\":\"\"}}],\"scatter\":[{\"fillpattern\":{\"fillmode\":\"overlay\",\"size\":10,\"solidity\":0.2},\"type\":\"scatter\"}],\"parcoords\":[{\"type\":\"parcoords\",\"line\":{\"colorbar\":{\"outlinewidth\":0,\"ticks\":\"\"}}}],\"scatterpolargl\":[{\"type\":\"scatterpolargl\",\"marker\":{\"colorbar\":{\"outlinewidth\":0,\"ticks\":\"\"}}}],\"bar\":[{\"error_x\":{\"color\":\"#2a3f5f\"},\"error_y\":{\"color\":\"#2a3f5f\"},\"marker\":{\"line\":{\"color\":\"#E5ECF6\",\"width\":0.5},\"pattern\":{\"fillmode\":\"overlay\",\"size\":10,\"solidity\":0.2}},\"type\":\"bar\"}],\"scattergeo\":[{\"type\":\"scattergeo\",\"marker\":{\"colorbar\":{\"outlinewidth\":0,\"ticks\":\"\"}}}],\"scatterpolar\":[{\"type\":\"scatterpolar\",\"marker\":{\"colorbar\":{\"outlinewidth\":0,\"ticks\":\"\"}}}],\"histogram\":[{\"marker\":{\"pattern\":{\"fillmode\":\"overlay\",\"size\":10,\"solidity\":0.2}},\"type\":\"histogram\"}],\"scattergl\":[{\"type\":\"scattergl\",\"marker\":{\"colorbar\":{\"outlinewidth\":0,\"ticks\":\"\"}}}],\"scatter3d\":[{\"type\":\"scatter3d\",\"line\":{\"colorbar\":{\"outlinewidth\":0,\"ticks\":\"\"}},\"marker\":{\"colorbar\":{\"outlinewidth\":0,\"ticks\":\"\"}}}],\"scattermapbox\":[{\"type\":\"scattermapbox\",\"marker\":{\"colorbar\":{\"outlinewidth\":0,\"ticks\":\"\"}}}],\"scatterternary\":[{\"type\":\"scatterternary\",\"marker\":{\"colorbar\":{\"outlinewidth\":0,\"ticks\":\"\"}}}],\"scattercarpet\":[{\"type\":\"scattercarpet\",\"marker\":{\"colorbar\":{\"outlinewidth\":0,\"ticks\":\"\"}}}],\"carpet\":[{\"aaxis\":{\"endlinecolor\":\"#2a3f5f\",\"gridcolor\":\"white\",\"linecolor\":\"white\",\"minorgridcolor\":\"white\",\"startlinecolor\":\"#2a3f5f\"},\"baxis\":{\"endlinecolor\":\"#2a3f5f\",\"gridcolor\":\"white\",\"linecolor\":\"white\",\"minorgridcolor\":\"white\",\"startlinecolor\":\"#2a3f5f\"},\"type\":\"carpet\"}],\"table\":[{\"cells\":{\"fill\":{\"color\":\"#EBF0F8\"},\"line\":{\"color\":\"white\"}},\"header\":{\"fill\":{\"color\":\"#C8D4E3\"},\"line\":{\"color\":\"white\"}},\"type\":\"table\"}],\"barpolar\":[{\"marker\":{\"line\":{\"color\":\"#E5ECF6\",\"width\":0.5},\"pattern\":{\"fillmode\":\"overlay\",\"size\":10,\"solidity\":0.2}},\"type\":\"barpolar\"}],\"pie\":[{\"automargin\":true,\"type\":\"pie\"}]},\"layout\":{\"autotypenumbers\":\"strict\",\"colorway\":[\"#636efa\",\"#EF553B\",\"#00cc96\",\"#ab63fa\",\"#FFA15A\",\"#19d3f3\",\"#FF6692\",\"#B6E880\",\"#FF97FF\",\"#FECB52\"],\"font\":{\"color\":\"#2a3f5f\"},\"hovermode\":\"closest\",\"hoverlabel\":{\"align\":\"left\"},\"paper_bgcolor\":\"white\",\"plot_bgcolor\":\"#E5ECF6\",\"polar\":{\"bgcolor\":\"#E5ECF6\",\"angularaxis\":{\"gridcolor\":\"white\",\"linecolor\":\"white\",\"ticks\":\"\"},\"radialaxis\":{\"gridcolor\":\"white\",\"linecolor\":\"white\",\"ticks\":\"\"}},\"ternary\":{\"bgcolor\":\"#E5ECF6\",\"aaxis\":{\"gridcolor\":\"white\",\"linecolor\":\"white\",\"ticks\":\"\"},\"baxis\":{\"gridcolor\":\"white\",\"linecolor\":\"white\",\"ticks\":\"\"},\"caxis\":{\"gridcolor\":\"white\",\"linecolor\":\"white\",\"ticks\":\"\"}},\"coloraxis\":{\"colorbar\":{\"outlinewidth\":0,\"ticks\":\"\"}},\"colorscale\":{\"sequential\":[[0.0,\"#0d0887\"],[0.1111111111111111,\"#46039f\"],[0.2222222222222222,\"#7201a8\"],[0.3333333333333333,\"#9c179e\"],[0.4444444444444444,\"#bd3786\"],[0.5555555555555556,\"#d8576b\"],[0.6666666666666666,\"#ed7953\"],[0.7777777777777778,\"#fb9f3a\"],[0.8888888888888888,\"#fdca26\"],[1.0,\"#f0f921\"]],\"sequentialminus\":[[0.0,\"#0d0887\"],[0.1111111111111111,\"#46039f\"],[0.2222222222222222,\"#7201a8\"],[0.3333333333333333,\"#9c179e\"],[0.4444444444444444,\"#bd3786\"],[0.5555555555555556,\"#d8576b\"],[0.6666666666666666,\"#ed7953\"],[0.7777777777777778,\"#fb9f3a\"],[0.8888888888888888,\"#fdca26\"],[1.0,\"#f0f921\"]],\"diverging\":[[0,\"#8e0152\"],[0.1,\"#c51b7d\"],[0.2,\"#de77ae\"],[0.3,\"#f1b6da\"],[0.4,\"#fde0ef\"],[0.5,\"#f7f7f7\"],[0.6,\"#e6f5d0\"],[0.7,\"#b8e186\"],[0.8,\"#7fbc41\"],[0.9,\"#4d9221\"],[1,\"#276419\"]]},\"xaxis\":{\"gridcolor\":\"white\",\"linecolor\":\"white\",\"ticks\":\"\",\"title\":{\"standoff\":15},\"zerolinecolor\":\"white\",\"automargin\":true,\"zerolinewidth\":2},\"yaxis\":{\"gridcolor\":\"white\",\"linecolor\":\"white\",\"ticks\":\"\",\"title\":{\"standoff\":15},\"zerolinecolor\":\"white\",\"automargin\":true,\"zerolinewidth\":2},\"scene\":{\"xaxis\":{\"backgroundcolor\":\"#E5ECF6\",\"gridcolor\":\"white\",\"linecolor\":\"white\",\"showbackground\":true,\"ticks\":\"\",\"zerolinecolor\":\"white\",\"gridwidth\":2},\"yaxis\":{\"backgroundcolor\":\"#E5ECF6\",\"gridcolor\":\"white\",\"linecolor\":\"white\",\"showbackground\":true,\"ticks\":\"\",\"zerolinecolor\":\"white\",\"gridwidth\":2},\"zaxis\":{\"backgroundcolor\":\"#E5ECF6\",\"gridcolor\":\"white\",\"linecolor\":\"white\",\"showbackground\":true,\"ticks\":\"\",\"zerolinecolor\":\"white\",\"gridwidth\":2}},\"shapedefaults\":{\"line\":{\"color\":\"#2a3f5f\"}},\"annotationdefaults\":{\"arrowcolor\":\"#2a3f5f\",\"arrowhead\":0,\"arrowwidth\":1},\"geo\":{\"bgcolor\":\"white\",\"landcolor\":\"#E5ECF6\",\"subunitcolor\":\"white\",\"showland\":true,\"showlakes\":true,\"lakecolor\":\"white\"},\"title\":{\"x\":0.05},\"mapbox\":{\"style\":\"light\"}}},\"xaxis\":{\"tickmode\":\"array\",\"tickvals\":[\"Agriculture\",\"Arts\",\"Clothing\",\"Construction\",\"Education\",\"Entertainment\",\"Food\",\"Health\",\"Housing\",\"Manufacturing\",\"Personal Use\",\"Retail\",\"Services\",\"Transportation\",\"Wholesale\"]}},                        {\"responsive\": true}                    ).then(function(){\n",
       "                            \n",
       "var gd = document.getElementById('5e295829-c0b4-4a02-a086-76734f5c99c2');\n",
       "var x = new MutationObserver(function (mutations, observer) {{\n",
       "        var display = window.getComputedStyle(gd).display;\n",
       "        if (!display || display === 'none') {{\n",
       "            console.log([gd, 'removed!']);\n",
       "            Plotly.purge(gd);\n",
       "            observer.disconnect();\n",
       "        }}\n",
       "}});\n",
       "\n",
       "// Listen for the removal of the full notebook cells\n",
       "var notebookContainer = gd.closest('#notebook-container');\n",
       "if (notebookContainer) {{\n",
       "    x.observe(notebookContainer, {childList: true});\n",
       "}}\n",
       "\n",
       "// Listen for the clearing of the current output cell\n",
       "var outputEl = gd.closest('.output');\n",
       "if (outputEl) {{\n",
       "    x.observe(outputEl, {childList: true});\n",
       "}}\n",
       "\n",
       "                        })                };                });            </script>        </div>"
      ]
     },
     "metadata": {},
     "output_type": "display_data"
    }
   ],
   "source": [
    "\n",
    "fig_geschlecht = go.Figure()\n",
    "fig_geschlecht.add_trace(go.Bar(x=df_anzahl_geschlecht.index,\n",
    "                     y=df_anzahl_geschlecht[\"anzahl_female\"],\n",
    "                     name=\"anzahl_female\"))\n",
    "fig_geschlecht.add_trace(go.Bar(x=df_anzahl_geschlecht.index,\n",
    "                     y=df_anzahl_geschlecht[\"anzahl_male\"],\n",
    "                     name=\"anzahl_male\"))\n",
    "\n",
    "fig_geschlecht.update_layout(\n",
    "    xaxis = dict(\n",
    "        tickmode = 'array',\n",
    "        tickvals = df_anzahl_geschlecht.index\n",
    "    )\n",
    ")\n",
    "\n"
   ]
  },
  {
   "cell_type": "code",
   "execution_count": 15,
   "id": "4969965b",
   "metadata": {
    "ExecuteTime": {
     "end_time": "2023-08-19T10:15:50.566935Z",
     "start_time": "2023-08-19T10:15:49.803576Z"
    },
    "scrolled": false
   },
   "outputs": [
    {
     "name": "stdout",
     "output_type": "stream",
     "text": [
      "Dash is running on http://127.0.0.1:8095/\n",
      "\n"
     ]
    },
    {
     "data": {
      "text/html": [
       "\n",
       "        <iframe\n",
       "            width=\"100%\"\n",
       "            height=\"650\"\n",
       "            src=\"http://127.0.0.1:8095/\"\n",
       "            frameborder=\"0\"\n",
       "            allowfullscreen\n",
       "            \n",
       "        ></iframe>\n",
       "        "
      ],
      "text/plain": [
       "<IPython.lib.display.IFrame at 0x18d03655610>"
      ]
     },
     "metadata": {},
     "output_type": "display_data"
    }
   ],
   "source": [
    "\n",
    "# 1. App erstellen\n",
    "\n",
    "my_app = JupyterDash(__name__)\n",
    "\n",
    "\n",
    "# 2. Layout festlegen\n",
    "\n",
    "my_app.layout = html.Div([\n",
    "                             # Überschrift der App\n",
    "    \n",
    "                            html.H1(children=\"Finanzanalyze beim Rückzalungstyp \",\n",
    "                                    style={\"textAlign\": \"center\"}),\n",
    "    \n",
    "                            # Dropdown\n",
    "    \n",
    "                            dcc.Dropdown(id=\"repayment_interval\",\n",
    "                                         options=sorted(df.loc[:,\"repayment_interval\"].unique()),\n",
    "                                         style={\"width\":250},\n",
    "                                         placeholder=\"Rückzahlungsintervall: \"\n",
    "                            \n",
    "                                        ),\n",
    "    \n",
    "                            dcc.Graph(\n",
    "                                      id=\"kiva_graph\",\n",
    "                                      figure={}\n",
    "                                        ),\n",
    "                           \n",
    "                        html.H1(children=\"Geschlechtanalyze beim Land \",\n",
    "                                    style={\"textAlign\": \"center\"}),\n",
    "    \n",
    "                            # Dropdown\n",
    "    \n",
    "                            dcc.Dropdown(id=\"geschlecht_beim_land\",\n",
    "                                         options=sorted(df.loc[:,\"country\"].unique()),\n",
    "                                         style={\"width\":250},\n",
    "                                         placeholder=\"Land: \"\n",
    "                            \n",
    "                                        ),\n",
    "    \n",
    "    \n",
    "                            dcc.Graph(\n",
    "                                      id=\"kiva_graph2\",\n",
    "                                      figure=fig_geschlecht\n",
    "                                        ),\n",
    "                            html.Br(),\n",
    "                        html.H1(children=\"Projektanzahl beim Land \",\n",
    "                                    style={\"textAlign\": \"center\"}),\n",
    "                            \n",
    "    \n",
    "                            # Dropdown\n",
    "    \n",
    "                            dcc.Dropdown(id=\"map\",\n",
    "                                         options=sorted(df.loc[:,\"country\"].unique()),\n",
    "                                         style={\"width\":250},\n",
    "                                         placeholder= sorted(df.loc[:,\"country\"].unique())\n",
    "                            \n",
    "                                        ),\n",
    "    \n",
    "                            dcc.Graph(\n",
    "                                      id=\"kiva_graph3\",\n",
    "                                      figure={}\n",
    "                                        )\n",
    "                           \n",
    "\n",
    "                            ])\n",
    "\n",
    "\n",
    "\n",
    "# 3.1 Aufbau des Callbacks: Verbindung mit Elementen aus dem Layout\n",
    "@my_app.callback(\n",
    "                     Output(component_id=\"kiva_graph\", component_property=\"figure\"),\n",
    "                     Output(component_id=\"kiva_graph2\", component_property=\"figure\"),\n",
    "                     Output(component_id=\"kiva_graph3\", component_property=\"figure\"),\n",
    "                    \n",
    "                     Input(component_id=\"repayment_interval\", component_property=\"value\"),\n",
    "                     Input(component_id=\"geschlecht_beim_land\", component_property=\"value\"),\n",
    "                     Input(component_id=\"map\", component_property=\"value\")\n",
    "                    )\n",
    "\n",
    "\n",
    "# 3.2 Erstellen der Update-Funktion: ändert sich der Input, ändert sich der Output\n",
    "\n",
    "def update_type(type_selected,country_selected,map_):\n",
    "    \n",
    "    # Daten selektieren: repayment_interval, sector --> siehe Testing area\n",
    "    \n",
    "    df_cause_selected = df_kosten.loc[(df_kosten.loc[:,\"repayment_interval\"]==type_selected)]\n",
    "    \n",
    "    # Daten aggregieren \n",
    "    \n",
    "    df_group = df_cause_selected\n",
    "    # Plot erstellen\n",
    "    \n",
    "    my_pie = px.pie(data_frame=df_group,\n",
    "                names='sector',\n",
    "                values=\"avg_funded_amount\",\n",
    "                \n",
    "                template=\"simple_white\"\n",
    "               \n",
    "               )\n",
    "    \n",
    "    \n",
    "    df_country = df[df['country']==country_selected].groupby(by='sector').agg(anzahl_female = ('borrowers_female', 'sum'), anzahl_male = ('borrowers_male', 'sum'))\n",
    "    fig_geschlecht = go.Figure()\n",
    "    fig_geschlecht.add_trace(go.Bar(x=df_country.index,\n",
    "                         y=df_country[\"anzahl_female\"],\n",
    "                         name=\"anzahl_female\"))\n",
    "    fig_geschlecht.add_trace(go.Bar(x=df_country.index,\n",
    "                         y=df_country[\"anzahl_male\"],\n",
    "                         name=\"anzahl_male\"))\n",
    "    \n",
    "    fig_geschlecht.update_layout(\n",
    "        xaxis = dict(\n",
    "            tickmode = 'array',\n",
    "            tickvals = df_country.index\n",
    "        )\n",
    "    )\n",
    "    \n",
    "    df_country_map = df.groupby(by=\"country\", as_index=False).agg(func={\"country_code\":\"count\"}) \n",
    "    fig_map = go.Figure(data=go.Choropleth(\n",
    "                locations = df_country_map[\"country\"],\n",
    "                locationmode = \"country names\",\n",
    "                z = df_country_map[\"country_code\"],\n",
    "                colorscale = \"sunset\",\n",
    "                autocolorscale=False,\n",
    "                marker_line_color='darkgray',\n",
    "                marker_line_width=0.5,\n",
    "                colorbar_title = \"Projektanzahl beim Land\",\n",
    "                        )\n",
    "                )\n",
    "\n",
    "\n",
    "    return my_pie, fig_geschlecht, fig_map\n",
    "\n",
    "\n",
    "# 4. App starten\n",
    "\n",
    "my_app.run_server(mode='inline', port=8095)"
   ]
  },
  {
   "cell_type": "code",
   "execution_count": null,
   "id": "b517eeb4",
   "metadata": {},
   "outputs": [],
   "source": []
  }
 ],
 "metadata": {
  "kernelspec": {
   "display_name": "Python 3 (ipykernel)",
   "language": "python",
   "name": "python3"
  },
  "language_info": {
   "codemirror_mode": {
    "name": "ipython",
    "version": 3
   },
   "file_extension": ".py",
   "mimetype": "text/x-python",
   "name": "python",
   "nbconvert_exporter": "python",
   "pygments_lexer": "ipython3",
   "version": "3.9.17"
  },
  "toc": {
   "base_numbering": 1,
   "nav_menu": {},
   "number_sections": true,
   "sideBar": true,
   "skip_h1_title": false,
   "title_cell": "Table of Contents",
   "title_sidebar": "Contents",
   "toc_cell": false,
   "toc_position": {},
   "toc_section_display": true,
   "toc_window_display": false
  }
 },
 "nbformat": 4,
 "nbformat_minor": 5
}
